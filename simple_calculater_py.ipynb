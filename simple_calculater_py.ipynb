{
  "nbformat": 4,
  "nbformat_minor": 0,
  "metadata": {
    "colab": {
      "provenance": [],
      "authorship_tag": "ABX9TyNQ7UKHI9bOzpG+9evtI54x",
      "include_colab_link": true
    },
    "kernelspec": {
      "name": "python3",
      "display_name": "Python 3"
    },
    "language_info": {
      "name": "python"
    }
  },
  "cells": [
    {
      "cell_type": "markdown",
      "metadata": {
        "id": "view-in-github",
        "colab_type": "text"
      },
      "source": [
        "<a href=\"https://colab.research.google.com/github/anshuvarshney/bash_script/blob/code_with_python/simple_calculater_py.ipynb\" target=\"_parent\"><img src=\"https://colab.research.google.com/assets/colab-badge.svg\" alt=\"Open In Colab\"/></a>"
      ]
    },
    {
      "cell_type": "code",
      "source": [
        "#Basic simple calulator that can perform the arithmictic operation like the addition, susbstract, mutiplication , division flor division and modulus.\n",
        "num1 = int(input(\"enter a number: \"))\n",
        "num2 = int(input(\"enter a number: \"))\n",
        "operator = input(\"input an operator : +, - , * , / , //, % \")\n",
        "if operator == \"+\":\n",
        "  print(num1+num2)\n",
        "elif operator == \"-\":\n",
        "  print(num1-num2)\n",
        "elif operator == \"*\":\n",
        "  print(num1*num2)\n",
        "elif operator == \"/\":\n",
        "  print(num1/num2)\n",
        "elif operator == \"//\":\n",
        "  print(num1//num2)\n",
        "else:\n",
        "  print(num1%num2)"
      ],
      "metadata": {
        "id": "KcHkQxR3c0F0"
      },
      "execution_count": null,
      "outputs": []
    },
    {
      "cell_type": "code",
      "source": [],
      "metadata": {
        "id": "zDKtFNT-DYIy"
      },
      "execution_count": null,
      "outputs": []
    }
  ]
}
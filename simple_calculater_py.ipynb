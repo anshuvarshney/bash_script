{
  "nbformat": 4,
  "nbformat_minor": 0,
  "metadata": {
    "colab": {
      "provenance": [],
      "authorship_tag": "ABX9TyN4P4yo0FWum/IjPs+5ALnb",
      "include_colab_link": true
    },
    "kernelspec": {
      "name": "python3",
      "display_name": "Python 3"
    },
    "language_info": {
      "name": "python"
    }
  },
  "cells": [
    {
      "cell_type": "markdown",
      "metadata": {
        "id": "view-in-github",
        "colab_type": "text"
      },
      "source": [
        "<a href=\"https://colab.research.google.com/github/anshuvarshney/bash_script/blob/code_with_python/simple_calculater_py.ipynb\" target=\"_parent\"><img src=\"https://colab.research.google.com/assets/colab-badge.svg\" alt=\"Open In Colab\"/></a>"
      ]
    },
    {
      "cell_type": "code",
      "source": [
        "#Basic simple calulator that can perform the arithmictic operation like the addition, susbstract, mutiplication , division flor division and modulus.\n",
        "num1 = int(input(\"enter a number: \"))\n",
        "num2 = int(input(\"enter a number: \"))\n",
        "operator = input(\"input an operator : +, - , * , / , //, % \")\n",
        "if operator == \"+\":\n",
        "  print(num1+num2)\n",
        "elif operator == \"-\":\n",
        "  print(num1-num2)\n",
        "elif operator == \"*\":\n",
        "  print(num1*num2)\n",
        "elif operator == \"/\":\n",
        "  print(num1/num2)\n",
        "elif operator == \"//\":\n",
        "  print(num1//num2)\n",
        "elif operator == \"%\":\n",
        "  print(num1%num2)\n",
        "else:\n",
        "  print(\"invalid operator\")"
      ],
      "metadata": {
        "id": "KcHkQxR3c0F0",
        "colab": {
          "base_uri": "https://localhost:8080/"
        },
        "outputId": "f6744526-044a-492f-cac0-5b5e59d06569"
      },
      "execution_count": 27,
      "outputs": [
        {
          "output_type": "stream",
          "name": "stdout",
          "text": [
            "enter a number: 89\n",
            "enter a number: 9\n",
            "input an operator : +, - , * , / , //, % k\n",
            "invalid operator\n"
          ]
        }
      ]
    },
    {
      "cell_type": "code",
      "source": [],
      "metadata": {
        "id": "zDKtFNT-DYIy"
      },
      "execution_count": null,
      "outputs": []
    }
  ]
}